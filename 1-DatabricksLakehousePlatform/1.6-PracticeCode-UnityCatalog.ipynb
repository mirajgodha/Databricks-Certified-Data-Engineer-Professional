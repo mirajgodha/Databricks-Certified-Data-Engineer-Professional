{
 "cells": [
  {
   "cell_type": "code",
   "execution_count": 0,
   "metadata": {
    "application/vnd.databricks.v1+cell": {
     "cellMetadata": {
      "byteLimit": 2048000,
      "rowLimit": 10000
     },
     "inputWidgets": {},
     "nuid": "2087a059-feac-46fc-980c-dc3ccd4f34bc",
     "showTitle": false,
     "tableResultSettingsMap": {},
     "title": ""
    }
   },
   "outputs": [],
   "source": [
    "\n",
    "# Import required libraries\n",
    "from pyspark.sql import SparkSession\n",
    "from pyspark.sql.functions import *\n",
    "from pyspark.sql.types import *\n",
    "from datetime import datetime, timedelta\n",
    "import random\n",
    "\n",
    "# Clear any existing configurations\n",
    "#spark.sql(\"SET spark.sql.execution.arrow.pyspark.enabled = false\")\n",
    "\n",
    "print(\"Lab environment initialized successfully\")\n"
   ]
  },
  {
   "cell_type": "code",
   "execution_count": 0,
   "metadata": {
    "application/vnd.databricks.v1+cell": {
     "cellMetadata": {
      "byteLimit": 2048000,
      "implicitDf": true,
      "rowLimit": 10000
     },
     "inputWidgets": {},
     "nuid": "0173169b-e743-43ed-8343-ba996725d6cc",
     "showTitle": false,
     "tableResultSettingsMap": {},
     "title": ""
    }
   },
   "outputs": [],
   "source": [
    "%sql\n",
    "-- Create a catalog for this lab\n",
    "CREATE CATALOG IF NOT EXISTS hr_analytics_lab;\n",
    "\n",
    "-- Use the catalog\n",
    "USE CATALOG hr_analytics_lab;\n",
    "\n",
    "-- Create schemas for different business units\n",
    "CREATE SCHEMA IF NOT EXISTS hr_data;\n",
    "CREATE SCHEMA IF NOT EXISTS sales_data;\n",
    "CREATE SCHEMA IF NOT EXISTS analytics;\n",
    "\n",
    "-- Set default schema\n",
    "USE hr_analytics_lab.hr_data;"
   ]
  },
  {
   "cell_type": "code",
   "execution_count": 0,
   "metadata": {
    "application/vnd.databricks.v1+cell": {
     "cellMetadata": {
      "byteLimit": 2048000,
      "rowLimit": 10000
     },
     "inputWidgets": {},
     "nuid": "f05a684c-3904-43c9-9e99-d49472c28748",
     "showTitle": false,
     "tableResultSettingsMap": {},
     "title": ""
    }
   },
   "outputs": [],
   "source": [
    "# Generate comprehensive employee dataset\n",
    "def generate_employee_data(num_employees=100):\n",
    "    cities = [\"New York\", \"San Francisco\", \"Chicago\", \"Austin\", \"Seattle\", \"Boston\", \"Los Angeles\", \"Miami\"]\n",
    "    departments = [\"Engineering\", \"Sales\", \"Marketing\", \"HR\", \"Finance\", \"Operations\"]\n",
    "    job_levels = [\"Junior\", \"Senior\", \"Lead\", \"Manager\", \"Director\"]\n",
    "    \n",
    "    employees = []\n",
    "    for i in range(1, num_employees + 1):\n",
    "        birth_date = (datetime.now() - timedelta(days=random.randint(8000, 15000))).strftime(\"%Y-%m-%d\")\n",
    "        hire_date = (datetime.now() - timedelta(days=random.randint(30, 2000))).strftime(\"%Y-%m-%d\")\n",
    "        \n",
    "        employee = {\n",
    "            \"employee_id\": i,\n",
    "            \"first_name\": f\"Employee_{i}\",\n",
    "            \"last_name\": f\"LastName_{i}\",\n",
    "            \"email\": f\"employee{i}@company.com\",\n",
    "            \"phone\": f\"555-{random.randint(1000, 9999)}\",\n",
    "            \"hire_date\": hire_date,\n",
    "            \"birth_date\": birth_date,\n",
    "            \"salary\": random.randint(40000, 200000),\n",
    "            \"department\": random.choice(departments),\n",
    "            \"job_title\": f\"{random.choice(job_levels)} {random.choice(departments)} Specialist\",\n",
    "            \"city\": random.choice(cities),\n",
    "            \"is_active\": random.choice([True, True, True, False])  # 75% active\n",
    "        }\n",
    "        employees.append(employee)\n",
    "    \n",
    "    return spark.createDataFrame(employees)\n",
    "\n",
    "# Create the employee dataset\n",
    "employee_df = generate_employee_data(100)\n",
    "employee_df.show(10)"
   ]
  },
  {
   "cell_type": "code",
   "execution_count": 0,
   "metadata": {
    "application/vnd.databricks.v1+cell": {
     "cellMetadata": {
      "byteLimit": 2048000,
      "implicitDf": true,
      "rowLimit": 10000
     },
     "inputWidgets": {},
     "nuid": "5c54008b-67a5-41c0-b33d-56bbbc0c2263",
     "showTitle": false,
     "tableResultSettingsMap": {},
     "title": ""
    }
   },
   "outputs": [],
   "source": [
    "%sql\n",
    "-- Drop table if exists for clean start\n",
    "DROP TABLE IF EXISTS hr_analytics_lab.hr_data.employees_managed;\n",
    "\n",
    "-- This will be created as a managed table automatically\n",
    "CREATE TABLE hr_analytics_lab.hr_data.employees_managed (\n",
    "    employee_id INT NOT NULL,\n",
    "    first_name STRING NOT NULL,\n",
    "    last_name STRING NOT NULL,\n",
    "    email STRING,\n",
    "    phone STRING,\n",
    "    hire_date DATE,\n",
    "    birth_date DATE,\n",
    "    salary DOUBLE,\n",
    "    department STRING,\n",
    "    job_title STRING,\n",
    "    city STRING,\n",
    "    is_active BOOLEAN\n",
    ") \n",
    "USING DELTA\n",
    "COMMENT \"Managed table containing employee information\"\n",
    "TBLPROPERTIES (\n",
    "    'department'='HR',\n",
    "    'data_classification'='PII',\n",
    "    'created_by'='data_engineering_team'\n",
    ");"
   ]
  },
  {
   "cell_type": "code",
   "execution_count": 0,
   "metadata": {
    "application/vnd.databricks.v1+cell": {
     "cellMetadata": {
      "byteLimit": 2048000,
      "rowLimit": 10000
     },
     "inputWidgets": {},
     "nuid": "36e3956c-e119-47ca-9e46-25b1cd264fe4",
     "showTitle": false,
     "tableResultSettingsMap": {},
     "title": ""
    }
   },
   "outputs": [],
   "source": [
    "# Insert data into managed table\n",
    "from pyspark.sql.types import IntegerType\n",
    "\n",
    "employee_df = (\n",
    "    employee_df\n",
    "    # Convert employee_id to int\n",
    "    .withColumn(\"employee_id\", col(\"employee_id\").cast(IntegerType()))\n",
    "    # Convert salary to long (if needed)\n",
    "    .withColumn(\"salary\", col(\"salary\").cast(LongType()))\n",
    "    # Convert is_active to boolean\n",
    "    .withColumn(\"is_active\", col(\"is_active\").cast(BooleanType()))\n",
    "    # Convert hire_date from string to proper date format\n",
    "    .withColumn(\"hire_date\", to_date(col(\"hire_date\"), \"yyyy-MM-dd\"))\n",
    "    # Convert birth_date if needed\n",
    "    .withColumn(\"birth_date\", to_date(col(\"birth_date\"), \"yyyy-MM-dd\"))\n",
    "    # Drop rows missing employee_id\n",
    "    .na.drop(subset=[\"employee_id\"])\n",
    ")\n",
    "employee_df.write \\\n",
    "    .format(\"delta\") \\\n",
    "    .mode(\"overwrite\") \\\n",
    "    .option(\"overwriteSchema\", \"true\") \\\n",
    "    .saveAsTable(\"hr_analytics_lab.hr_data.employees_managed\")\n",
    "\n",
    "print(\"Data inserted into managed table\")"
   ]
  },
  {
   "cell_type": "code",
   "execution_count": 0,
   "metadata": {
    "application/vnd.databricks.v1+cell": {
     "cellMetadata": {
      "byteLimit": 2048000,
      "rowLimit": 10000
     },
     "inputWidgets": {},
     "nuid": "2672fdce-b4dd-47c1-ae28-61698c1db7ad",
     "showTitle": false,
     "tableResultSettingsMap": {},
     "title": ""
    }
   },
   "outputs": [],
   "source": [
    "employee_df.printSchema()"
   ]
  },
  {
   "cell_type": "code",
   "execution_count": 0,
   "metadata": {
    "application/vnd.databricks.v1+cell": {
     "cellMetadata": {
      "byteLimit": 2048000,
      "implicitDf": true,
      "rowLimit": 10000
     },
     "inputWidgets": {},
     "nuid": "f94a5104-5ded-43ed-8857-cea038b62f3a",
     "showTitle": false,
     "tableResultSettingsMap": {},
     "title": ""
    }
   },
   "outputs": [],
   "source": [
    "%sql\n",
    "-- Describe the managed table in detail\n",
    "DESCRIBE EXTENDED hr_analytics_lab.hr_data.employees_managed;\n",
    "\n",
    "-- Show table properties\n",
    "SHOW TBLPROPERTIES hr_analytics_lab.hr_data.employees_managed;\n",
    "\n",
    "-- Check the location (notice it's managed by Unity Catalog)\n",
    "DESCRIBE DETAIL hr_analytics_lab.hr_data.employees_managed;"
   ]
  },
  {
   "cell_type": "code",
   "execution_count": 0,
   "metadata": {
    "application/vnd.databricks.v1+cell": {
     "cellMetadata": {
      "byteLimit": 2048000,
      "implicitDf": true,
      "rowLimit": 10000
     },
     "inputWidgets": {},
     "nuid": "3d6ddf52-b234-492b-acf7-3a27a8106b77",
     "showTitle": false,
     "tableResultSettingsMap": {
      "0": {
       "dataGridStateBlob": "{\"version\":1,\"tableState\":{\"columnPinning\":{\"left\":[\"#row_number#\"],\"right\":[]},\"columnSizing\":{},\"columnVisibility\":{}},\"settings\":{\"columns\":{}},\"syncTimestamp\":1759670671304}",
       "filterBlob": null,
       "queryPlanFiltersBlob": null,
       "tableResultIndex": 0
      }
     },
     "title": ""
    }
   },
   "outputs": [],
   "source": [
    "%sql\n",
    "-- Show existing external locations (if any)\n",
    "SHOW EXTERNAL LOCATIONS;\n"
   ]
  },
  {
   "cell_type": "code",
   "execution_count": 0,
   "metadata": {
    "application/vnd.databricks.v1+cell": {
     "cellMetadata": {
      "byteLimit": 2048000,
      "implicitDf": true,
      "rowLimit": 10000
     },
     "inputWidgets": {},
     "nuid": "99531fff-eaa3-4e1e-be15-df5f18558627",
     "showTitle": false,
     "tableResultSettingsMap": {},
     "title": ""
    }
   },
   "outputs": [],
   "source": [
    "%sql\n",
    "-- Show storage credentials (if any)\n",
    "SHOW STORAGE CREDENTIALS;\n"
   ]
  },
  {
   "cell_type": "code",
   "execution_count": 0,
   "metadata": {
    "application/vnd.databricks.v1+cell": {
     "cellMetadata": {
      "byteLimit": 2048000,
      "implicitDf": true,
      "rowLimit": 10000
     },
     "inputWidgets": {},
     "nuid": "01d03b89-55cc-4506-ab2f-0afa4f0f4021",
     "showTitle": false,
     "tableResultSettingsMap": {},
     "title": ""
    }
   },
   "outputs": [],
   "source": [
    "%sql\n",
    "-- For demonstration, we'll create an external table pointing to a specific path\n",
    "-- Note: In production, you would need proper external locations and storage credentials\n",
    "\n",
    "-- Create external table structure (this may require admin privileges for external locations)\n",
    "CREATE TABLE IF NOT EXISTS hr_analytics_lab.hr_data.employees_external (\n",
    "    employee_id INT NOT NULL,\n",
    "    first_name STRING NOT NULL,\n",
    "    last_name STRING NOT NULL,\n",
    "    email STRING,\n",
    "    phone STRING,\n",
    "    hire_date DATE,\n",
    "    birth_date DATE,\n",
    "    salary DOUBLE,\n",
    "    department STRING,\n",
    "    job_title STRING,\n",
    "    city STRING,\n",
    "    is_active BOOLEAN\n",
    ") \n",
    "USING DELTA\n",
    "COMMENT \"External table containing employee information\"\n",
    "LOCATION 's3://databricks-miraj/hr-data/employees/'  -- Replace with actual external location\n",
    "TBLPROPERTIES (\n",
    "    'department'='HR',\n",
    "    'data_classification'='PII',\n",
    "    'storage_type'='external'\n",
    ");"
   ]
  },
  {
   "cell_type": "code",
   "execution_count": 0,
   "metadata": {
    "application/vnd.databricks.v1+cell": {
     "cellMetadata": {
      "byteLimit": 2048000,
      "implicitDf": true,
      "rowLimit": 10000
     },
     "inputWidgets": {},
     "nuid": "f2a2abf0-bc48-4e7d-b60d-baeff5aa6c2d",
     "showTitle": false,
     "tableResultSettingsMap": {},
     "title": ""
    }
   },
   "outputs": [],
   "source": [
    "%sql\n",
    "-- Create a comparison query\n",
    "WITH table_comparison AS (\n",
    "    SELECT \n",
    "        'managed' as table_type,\n",
    "        COUNT(*) as record_count,\n",
    "        'Unity Catalog managed storage' as location_type\n",
    "    FROM hr_analytics_lab.hr_data.employees_managed\n",
    "    \n",
    "    UNION ALL\n",
    "    \n",
    "    SELECT \n",
    "        'external' as table_type,\n",
    "        COUNT(*) as record_count,\n",
    "        'External cloud storage' as location_type\n",
    "    FROM hr_analytics_lab.hr_data.employees_managed  -- Using managed for demo since external might not be accessible\n",
    ")\n",
    "SELECT * FROM table_comparison;"
   ]
  }
 ],
 "metadata": {
  "application/vnd.databricks.v1+notebook": {
   "computePreferences": null,
   "dashboards": [],
   "environmentMetadata": {
    "base_environment": "",
    "environment_version": "3"
   },
   "inputWidgetPreferences": null,
   "language": "python",
   "notebookMetadata": {
    "mostRecentlyExecutedCommandWithImplicitDF": {
     "commandId": 7513066381507276,
     "dataframes": [
      "_sqldf"
     ]
    },
    "pythonIndentUnit": 4
   },
   "notebookName": "1.6-PracticeCode-UnityCatalog",
   "widgets": {}
  },
  "language_info": {
   "name": "python"
  }
 },
 "nbformat": 4,
 "nbformat_minor": 0
}
