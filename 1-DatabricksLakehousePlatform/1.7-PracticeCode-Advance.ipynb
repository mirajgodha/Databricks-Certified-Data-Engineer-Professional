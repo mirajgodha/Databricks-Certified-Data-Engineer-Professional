{
 "cells": [
  {
   "cell_type": "code",
   "execution_count": 0,
   "metadata": {
    "application/vnd.databricks.v1+cell": {
     "cellMetadata": {
      "byteLimit": 2048000,
      "rowLimit": 10000
     },
     "inputWidgets": {},
     "nuid": "a10fb138-fa6e-41cb-9720-340606e1fedc",
     "showTitle": false,
     "tableResultSettingsMap": {},
     "title": ""
    }
   },
   "outputs": [],
   "source": [
    "spark.sql(\"CREATE DATABASE IF NOT EXISTS delta_lab\")\n",
    "spark.sql(\"USE delta_lab\")"
   ]
  },
  {
   "cell_type": "code",
   "execution_count": 0,
   "metadata": {
    "application/vnd.databricks.v1+cell": {
     "cellMetadata": {
      "byteLimit": 2048000,
      "rowLimit": 10000
     },
     "inputWidgets": {},
     "nuid": "4a460920-d160-43f4-9d4c-1b8311629ab7",
     "showTitle": false,
     "tableResultSettingsMap": {},
     "title": ""
    }
   },
   "outputs": [],
   "source": [
    "from pyspark.sql.functions import *\n",
    "from datetime import datetime, timedelta\n",
    "import random\n",
    "\n",
    "def generate_ecommerce_data(num_records=10000):\n",
    "    categories = [\"Electronics\", \"Clothing\", \"Books\", \"Home & Garden\", \"Sports\"]\n",
    "    regions = [\"North\", \"South\", \"East\", \"West\", \"Central\"]\n",
    "    \n",
    "    data = []\n",
    "    for i in range(num_records):\n",
    "        record = {\n",
    "            \"order_id\": f\"ORD{i:06d}\",\n",
    "            \"customer_id\": f\"CUST{random.randint(1, 1000):04d}\",\n",
    "            \"product_category\": random.choice(categories),\n",
    "            \"region\": random.choice(regions),\n",
    "            \"order_amount\": random.randint(1, 10000),\n",
    "            \"quantity\": random.randint(1, 10),\n",
    "            \"order_date\": (datetime.now() - timedelta(days=random.randint(0, 365))).strftime(\"%Y-%m-%d\"),\n",
    "            \"status\": random.choice([\"Completed\", \"Pending\", \"Cancelled\"])\n",
    "        }\n",
    "        data.append(record)\n",
    "    \n",
    "    return spark.createDataFrame(data)\n",
    "\n",
    "df_orders = generate_ecommerce_data(10000)\n",
    "display(df_orders)"
   ]
  },
  {
   "cell_type": "code",
   "execution_count": 0,
   "metadata": {
    "application/vnd.databricks.v1+cell": {
     "cellMetadata": {
      "byteLimit": 2048000,
      "rowLimit": 10000
     },
     "inputWidgets": {},
     "nuid": "17620edc-36ea-4f8c-b04a-6d8fc735601c",
     "showTitle": false,
     "tableResultSettingsMap": {},
     "title": ""
    }
   },
   "outputs": [],
   "source": [
    "# Define the base path for our tables\n",
    "base_path = \"s3://databricks-miraj/c8e900d7-335a-4b8c-bb1f-98b7562c6e72/lab1/\"\n",
    "dbutils.fs.rm(base_path, True)  \n",
    "# Clean up if exists\n",
    "# Write data as Delta Lake table\n",
    "delta_table_path = f\"{base_path}orders_delta\"\n",
    "\n",
    "df_orders.write \\\n",
    "    .format(\"delta\") \\\n",
    "    .mode(\"overwrite\") \\\n",
    "    .option(\"path\", delta_table_path) \\\n",
    "    .saveAsTable(\"delta_lab.orders\")\n",
    "\n",
    "print(f\"Created Delta table at: {delta_table_path}\")"
   ]
  },
  {
   "cell_type": "code",
   "execution_count": 0,
   "metadata": {
    "application/vnd.databricks.v1+cell": {
     "cellMetadata": {
      "byteLimit": 2048000,
      "rowLimit": 10000
     },
     "inputWidgets": {},
     "nuid": "81d0f8d4-0d71-42d5-a805-56ed67f7d166",
     "showTitle": false,
     "tableResultSettingsMap": {},
     "title": ""
    }
   },
   "outputs": [],
   "source": [
    "# List files in the Delta table directory\n",
    "display(dbutils.fs.ls(delta_table_path))\n",
    "\n",
    "# Look at the _delta_log directory\n",
    "display(dbutils.fs.ls(f\"{delta_table_path}/_delta_log/\"))\n",
    "\n",
    "# Read the first commit log\n",
    "first_commit = spark.read.json(f\"{delta_table_path}/_delta_log/00000000000000000000.json\")\n",
    "display(first_commit)"
   ]
  },
  {
   "cell_type": "code",
   "execution_count": 0,
   "metadata": {
    "application/vnd.databricks.v1+cell": {
     "cellMetadata": {
      "byteLimit": 2048000,
      "rowLimit": 10000
     },
     "inputWidgets": {},
     "nuid": "694ac6dc-5988-4c6c-80bc-804f79dac5fe",
     "showTitle": false,
     "tableResultSettingsMap": {},
     "title": ""
    }
   },
   "outputs": [],
   "source": [
    "# Describe the table\n",
    "spark.sql(\"DESCRIBE EXTENDED delta_lab.orders\").show(50, False)\n",
    "\n",
    "# Show table history\n",
    "spark.sql(\"DESCRIBE HISTORY delta_lab.orders\").show(10, False)"
   ]
  }
 ],
 "metadata": {
  "application/vnd.databricks.v1+notebook": {
   "computePreferences": null,
   "dashboards": [],
   "environmentMetadata": {
    "base_environment": "",
    "environment_version": "3"
   },
   "inputWidgetPreferences": null,
   "language": "python",
   "notebookMetadata": {
    "pythonIndentUnit": 4
   },
   "notebookName": "1.7-PracticeCode-Advance",
   "widgets": {}
  },
  "language_info": {
   "name": "python"
  }
 },
 "nbformat": 4,
 "nbformat_minor": 0
}
